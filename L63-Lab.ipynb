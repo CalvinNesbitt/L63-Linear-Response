{
 "cells": [
  {
   "cell_type": "markdown",
   "metadata": {},
   "source": [
    "# Lorenz 63 Linear Response\n",
    "\n",
    "A notebook to do some quick informal stuff with L63 Linear Response\n",
    "\n",
    "Working Notes:\n",
    "- Looks like I have similar plot to Reick in terms of accuracy condition. Next step is to compute Response function by perturbing at different frequencies."
   ]
  },
  {
   "cell_type": "code",
   "execution_count": 1,
   "metadata": {},
   "outputs": [],
   "source": [
    "import tlorenz63 as tl63\n",
    "from tlorenz63 import make_observations\n",
    "\n",
    "# Standard Imports\n",
    "import numpy as np\n",
    "from scipy.stats import linregress\n",
    "import os\n",
    "import xarray as xr\n",
    "from tqdm.notebook import tqdm\n",
    "import matplotlib.pyplot as plt\n",
    "from mpl_toolkits.mplot3d import Axes3D"
   ]
  },
  {
   "cell_type": "markdown",
   "metadata": {},
   "source": [
    "## Linear Response Experiment. \n",
    "\n",
    "Am attempting to reproduce Reick Frequency figure to verify linear response"
   ]
  },
  {
   "cell_type": "code",
   "execution_count": 2,
   "metadata": {},
   "outputs": [],
   "source": [
    "# Initialisation\n",
    "X0=np.random.rand()\n",
    "Y0=np.random.rand()\n",
    "Z0=np.random.rand()\n",
    "dx0=np.random.rand()\n",
    "dy0=np.random.rand()\n",
    "dz0=np.random.rand()\n",
    "\n",
    "transient = 10\n",
    "T = 2500 # Integration time\n",
    "dt = 5.e-3\n",
    "num_obs = int(T/dt)\n",
    "obs_freq = dt"
   ]
  },
  {
   "cell_type": "markdown",
   "metadata": {},
   "source": [
    "### No Perturbation\n",
    "\n",
    "Solving L63 with no perturbation."
   ]
  },
  {
   "cell_type": "code",
   "execution_count": 3,
   "metadata": {},
   "outputs": [],
   "source": [
    "# Definining Integrator and Observer\n",
    "\n",
    "runner = tl63.Integrator(X_init=X0, Y_init=Y0, Z_init=Z0, dx_init=dx0, dy_init=dy0, dz_init=dz0, dt=dt)\n",
    "looker = tl63.TrajectoryObserver(runner)"
   ]
  },
  {
   "cell_type": "code",
   "execution_count": 4,
   "metadata": {},
   "outputs": [],
   "source": [
    "runner.integrate(transient)"
   ]
  },
  {
   "cell_type": "code",
   "execution_count": 5,
   "metadata": {},
   "outputs": [
    {
     "data": {
      "application/vnd.jupyter.widget-view+json": {
       "model_id": "c1eac3052a5d4ecebf634e534391888c",
       "version_major": 2,
       "version_minor": 0
      },
      "text/plain": [
       "HBox(children=(FloatProgress(value=0.0, max=500000.0), HTML(value='')))"
      ]
     },
     "metadata": {},
     "output_type": "display_data"
    },
    {
     "name": "stderr",
     "output_type": "stream",
     "text": [
      "/rds/general/user/cfn18/home/L63-Linear-Response/tlorenz63.py:58: RuntimeWarning: overflow encountered in double_scalars\n",
      "  dzdt = (Y * dx) + (X * dy) - (self.b * dz)\n",
      "/rds/general/user/cfn18/home/L63-Linear-Response/tlorenz63.py:58: RuntimeWarning: invalid value encountered in double_scalars\n",
      "  dzdt = (Y * dx) + (X * dy) - (self.b * dz)\n"
     ]
    },
    {
     "name": "stdout",
     "output_type": "stream",
     "text": [
      "\n"
     ]
    }
   ],
   "source": [
    "make_observations(runner, looker, num_obs, obs_freq)\n",
    "no_pert_obs = looker.observations"
   ]
  },
  {
   "cell_type": "markdown",
   "metadata": {},
   "source": [
    "### Perturbation Runs"
   ]
  },
  {
   "cell_type": "markdown",
   "metadata": {},
   "source": [
    "Following Reick, we use a cosine perturbation of varying strengths"
   ]
  },
  {
   "cell_type": "code",
   "execution_count": 6,
   "metadata": {},
   "outputs": [],
   "source": [
    "f = 20 # Frequency of perturbation\n",
    "omega = f * 2 * np.pi\n",
    "switch_on_time = transient"
   ]
  },
  {
   "cell_type": "code",
   "execution_count": 7,
   "metadata": {},
   "outputs": [],
   "source": [
    "# Defining perturbations, these are designed to perturb r in the L63 equations\n",
    "\n",
    "def cos_perturbation(state, time, *args):\n",
    "    eps = args[0]\n",
    "    omega = args[1]\n",
    "    x = state[0]\n",
    "    perturbation = eps * np.cos(omega * time) * x\n",
    "    return np.array([0, perturbation, 0])\n",
    "\n",
    "def sin_impulse(state, t_state, time, *args):\n",
    "    if (time == switch_on_time):\n",
    "        print(f'Did Impulse at {time}')\n",
    "        eps = args[0]\n",
    "        omega = args[1]\n",
    "        dx = t_state[0]\n",
    "        perturbation = eps * np.sin(omega * time) * dx\n",
    "        return np.array([0, perturbation, 0])\n",
    "    return np.zeros(3) "
   ]
  },
  {
   "cell_type": "code",
   "execution_count": 8,
   "metadata": {},
   "outputs": [],
   "source": [
    "# # Performing Perturbation Run for varying strengths of epsilon\n",
    "\n",
    "# perturbed_observations = []\n",
    "# strengths = [1.e-6, 1.e-5, 1.e-4, 1.e-3, 1.e-2, 0.1, 0.5, 0.7, 1, 2, 5]\n",
    "# for eps in tqdm(strengths):\n",
    "#     print(f'Working on run with eps = {eps}')\n",
    "#     runner = tl63.PerturbedIntegrator(perturbation_field=cos_perturbation, p_args=[eps, omega], t_perturbation_field=sin_impulse,\n",
    "#             tp_args=[eps, omega], X_init=X0, Y_init=Y0, Z_init=Z0, dx_init=dx0, dy_init=dy0, dz_init=dz0)\n",
    "#     looker = tl63.TrajectoryObserver(runner)\n",
    "#     runner.integrate(transient)\n",
    "#     runner.perturbation_on = True\n",
    "#     perturbation_on_time = runner.time\n",
    "#     make_observations(runner, looker, num_obs, obs_freq)\n",
    "#     observations = looker.observations\n",
    "#     observations.attrs.update({'eps': eps})        \n",
    "#     epsilon = observations.attrs['eps']\n",
    "#     save = f'Reick-Experiment/Perturbed-Run-Trajectory/Eps_{epsilon:.1e}'.replace('.','_')\n",
    "#     observations.to_netcdf(save + '.nc')\n",
    "#     print(f'Saved to {save}')\n",
    "    "
   ]
  },
  {
   "cell_type": "markdown",
   "metadata": {},
   "source": [
    "### Opening Perturbed Run Data"
   ]
  },
  {
   "cell_type": "code",
   "execution_count": 9,
   "metadata": {},
   "outputs": [],
   "source": [
    "perturbed_data = []\n",
    "directory = 'Reick-Experiment/Perturbed-Run-Trajectory/'\n",
    "for file in os.listdir(directory):\n",
    "    if file.endswith(\".nc\"):\n",
    "        ds = xr.open_dataset(directory + file)\n",
    "        perturbed_data.append(ds)"
   ]
  },
  {
   "cell_type": "code",
   "execution_count": 10,
   "metadata": {},
   "outputs": [],
   "source": [
    "eq_run = xr.open_dataset('Reick-Experiment/Unperturbed.nc')"
   ]
  },
  {
   "cell_type": "markdown",
   "metadata": {},
   "source": [
    "### Calculating and Plotting Mean Response\n",
    "\n",
    "This is a plot of the difference between the mean value of the perturbed $z$ and the mean value of the equilibrium $z$"
   ]
  },
  {
   "cell_type": "code",
   "execution_count": 11,
   "metadata": {},
   "outputs": [],
   "source": [
    "eq_mean = np.mean(eq_run.Z)"
   ]
  },
  {
   "cell_type": "code",
   "execution_count": 12,
   "metadata": {},
   "outputs": [],
   "source": [
    "epsilons = []\n",
    "responses = []\n",
    "for data in perturbed_data:\n",
    "    response_ts = data.Z - eq_mean\n",
    "    mean_response = np.mean(response_ts)\n",
    "    epsilons.append(data.eps)\n",
    "    responses.append(mean_response)\n",
    "epsilons = np.array(epsilons)\n",
    "mean_responses = np.array(responses)"
   ]
  },
  {
   "cell_type": "markdown",
   "metadata": {},
   "source": [
    "Looks like linear response only from $0.5$ or so."
   ]
  },
  {
   "cell_type": "code",
   "execution_count": 13,
   "metadata": {},
   "outputs": [
    {
     "data": {
      "image/png": "[encoded data removed]",
      "text/plain": [
       "<Figure size 432x288 with 1 Axes>"
      ]
     },
     "metadata": {
      "needs_background": "light"
     },
     "output_type": "display_data"
    }
   ],
   "source": [
    "plt.scatter(epsilons, mean_responses, alpha = 0.5)\n",
    "plt.title('Mean Response of $z$')\n",
    "plt.ylabel('$\\\\langle \\delta z \\\\rangle$')\n",
    "plt.xlabel('$\\\\epsilon$')\n",
    "plt.xlabel\n",
    "plt.grid()"
   ]
  },
  {
   "cell_type": "code",
   "execution_count": 14,
   "metadata": {},
   "outputs": [],
   "source": [
    "eps_indices = epsilons > 0.3 # Quick Linear regression for eps > 0.3\n",
    "\n",
    "# Quick Linear Regression\n",
    "line = linregress(epsilons[eps_indices], mean_responses[eps_indices])\n",
    "\n",
    "def response_line(eps):\n",
    "    \"\"\"Expected response for eps\"\"\"\n",
    "    slope = line[0]\n",
    "    intercept = line[1]\n",
    "    return (slope * eps + intercept)"
   ]
  },
  {
   "cell_type": "code",
   "execution_count": 15,
   "metadata": {},
   "outputs": [
    {
     "data": {
      "image/png": "[encoded data removed]",
      "text/plain": [
       "<Figure size 432x288 with 1 Axes>"
      ]
     },
     "metadata": {
      "needs_background": "light"
     },
     "output_type": "display_data"
    }
   ],
   "source": [
    "plt.scatter(epsilons[eps_indices], mean_responses[eps_indices], alpha = 0.5, label='Data Points')\n",
    "x_d = np.linspace(0.5, 5.5, 100)\n",
    "plt.plot(x_d, [response_line(x) for x in x_d], 'C1--',  label = 'Linear Regression')\n",
    "plt.title('Mean Response of $z$')\n",
    "plt.ylabel('$\\\\langle \\delta z \\\\rangle$')\n",
    "plt.xlabel('$\\\\epsilon$')\n",
    "plt.legend()\n",
    "plt.grid()"
   ]
  },
  {
   "cell_type": "markdown",
   "metadata": {},
   "source": [
    "### Accuracy Condition Check\n",
    "\n",
    "Seeing effect of epsilon on accuracy of respone function calculation"
   ]
  },
  {
   "cell_type": "code",
   "execution_count": 16,
   "metadata": {},
   "outputs": [],
   "source": [
    "# Function to extract power of a certain frequency\n",
    "def power(z, freq):\n",
    "    n = len(z) # Sampling frequency\n",
    "    dt = obs_freq\n",
    "    fhat = np.fft.fft(z, n)\n",
    "    PSD = (fhat * np.conj(fhat))/n\n",
    "    freq = (1/(dt*n)) * np.arange(n) \n",
    "    L = np.arange(1, np.floor(n/2),dtype='int')\n",
    "    return np.abs(PSD[freq == 20].item())"
   ]
  },
  {
   "cell_type": "code",
   "execution_count": 17,
   "metadata": {},
   "outputs": [
    {
     "data": {
      "application/vnd.jupyter.widget-view+json": {
       "model_id": "a9829f0937cd4a8598d659ef1f2f3e0a",
       "version_major": 2,
       "version_minor": 0
      },
      "text/plain": [
       "HBox(children=(FloatProgress(value=0.0, max=11.0), HTML(value='')))"
      ]
     },
     "metadata": {},
     "output_type": "display_data"
    },
    {
     "name": "stdout",
     "output_type": "stream",
     "text": [
      "\n"
     ]
    }
   ],
   "source": [
    "# Time series of responses\n",
    "epsilons=[]\n",
    "response_ts = []\n",
    "for data in tqdm(perturbed_data):\n",
    "    epsilons.append(data.eps)\n",
    "    response = data.Z - eq_mean\n",
    "    response_ts.append(response)\n",
    "    \n",
    "# epsilons = np.array(epsilons)\n",
    "# response_ts = np.array(response_ts)"
   ]
  },
  {
   "cell_type": "code",
   "execution_count": 18,
   "metadata": {},
   "outputs": [],
   "source": [
    "powers = []\n",
    "conditions = []\n",
    "for data, epsilon in zip(response_ts, epsilons):\n",
    "    condition = epsilon * omega * (data.Time.max() - data.Time.min()).item()\n",
    "    conditions.append(condition)\n",
    "    power = np.abs(2 * np.mean(np.exp(data.Time * omega * 1j) * data)/epsilon)\n",
    "    powers.append(power.item())"
   ]
  },
  {
   "cell_type": "markdown",
   "metadata": {},
   "source": [
    "Our condition for accurate numerical results seems to differ from Reick by a factor of about $1000$"
   ]
  },
  {
   "cell_type": "code",
   "execution_count": 19,
   "metadata": {},
   "outputs": [
    {
     "data": {
      "image/png": "[encoded data removed]",
      "text/plain": [
       "<Figure size 432x288 with 1 Axes>"
      ]
     },
     "metadata": {
      "needs_background": "light"
     },
     "output_type": "display_data"
    }
   ],
   "source": [
    "plt.title ('Effect of Epsilon on $\\\\epsilon \\\\Omega T$')\n",
    "plt.ylabel('$\\\\epsilon \\\\Omega T$')\n",
    "plt.xlabel('$\\\\epsilon$')\n",
    "plt.plot(epsilons, conditions, '*', alpha = 0.5)\n",
    "plt.yscale('log')\n",
    "plt.xscale('log')\n",
    "plt.grid()\n",
    "plt.show()"
   ]
  },
  {
   "cell_type": "code",
   "execution_count": 20,
   "metadata": {},
   "outputs": [
    {
     "data": {
      "image/png": "[encoded data removed]",
      "text/plain": [
       "<Figure size 432x288 with 1 Axes>"
      ]
     },
     "metadata": {
      "needs_background": "light"
     },
     "output_type": "display_data"
    }
   ],
   "source": [
    "plt.plot(epsilons, powers, '*', alpha = 0.5)\n",
    "plt.title('Independence of Response Function for increased $\\\\epsilon$')\n",
    "plt.yscale('log')\n",
    "plt.xscale('log')\n",
    "plt.ylabel('$|\\\\chi(\\\\omega)_z|$')\n",
    "plt.xlabel('$\\\\epsilon$')\n",
    "# plt.ylim((0, 1.e5))\n",
    "# plt.xlim((1.e-9, 10))\n",
    "plt.grid()\n",
    "plt.show()"
   ]
  },
  {
   "cell_type": "markdown",
   "metadata": {},
   "source": [
    "## Calculating Response Function"
   ]
  },
  {
   "cell_type": "code",
   "execution_count": 21,
   "metadata": {},
   "outputs": [],
   "source": [
    "frequencies = np.linspace(0.1, 12, 100)\n",
    "epsilons = [0.1, 0.5, 1.0]"
   ]
  },
  {
   "cell_type": "markdown",
   "metadata": {},
   "source": [
    "### Frequency Realm"
   ]
  },
  {
   "cell_type": "code",
   "execution_count": 22,
   "metadata": {},
   "outputs": [
    {
     "ename": "NameError",
     "evalue": "name 'perturbed_z' is not defined",
     "output_type": "error",
     "traceback": [
      "\u001b[0;31m---------------------------------------------------------------------------\u001b[0m",
      "\u001b[0;31mNameError\u001b[0m                                 Traceback (most recent call last)",
      "\u001b[0;32m<ipython-input-22-e10769f2d185>\u001b[0m in \u001b[0;36m<module>\u001b[0;34m\u001b[0m\n\u001b[1;32m      1\u001b[0m \u001b[0;31m#test = [cos_perturbation(1, time) for time in unperturbed_z.time]\u001b[0m\u001b[0;34m\u001b[0m\u001b[0;34m\u001b[0m\u001b[0;34m\u001b[0m\u001b[0m\n\u001b[0;32m----> 2\u001b[0;31m \u001b[0mdifference\u001b[0m \u001b[0;34m=\u001b[0m \u001b[0mperturbed_z\u001b[0m \u001b[0;34m-\u001b[0m \u001b[0munperturbed_z\u001b[0m\u001b[0;34m\u001b[0m\u001b[0;34m\u001b[0m\u001b[0m\n\u001b[0m\u001b[1;32m      3\u001b[0m \u001b[0;32mfor\u001b[0m \u001b[0mi\u001b[0m\u001b[0;34m,\u001b[0m \u001b[0mz\u001b[0m \u001b[0;32min\u001b[0m \u001b[0menumerate\u001b[0m\u001b[0;34m(\u001b[0m\u001b[0;34m[\u001b[0m\u001b[0munperturbed_z\u001b[0m\u001b[0;34m,\u001b[0m \u001b[0mperturbed_z\u001b[0m\u001b[0;34m,\u001b[0m \u001b[0mdifference\u001b[0m\u001b[0;34m]\u001b[0m\u001b[0;34m)\u001b[0m\u001b[0;34m:\u001b[0m\u001b[0;34m\u001b[0m\u001b[0;34m\u001b[0m\u001b[0m\n\u001b[1;32m      4\u001b[0m     \u001b[0mn\u001b[0m \u001b[0;34m=\u001b[0m \u001b[0mlen\u001b[0m\u001b[0;34m(\u001b[0m\u001b[0mz\u001b[0m\u001b[0;34m[\u001b[0m\u001b[0;34m:\u001b[0m\u001b[0;34m:\u001b[0m\u001b[0;36m2\u001b[0m\u001b[0;34m]\u001b[0m\u001b[0;34m)\u001b[0m \u001b[0;31m# Reduce sampling frequency\u001b[0m\u001b[0;34m\u001b[0m\u001b[0;34m\u001b[0m\u001b[0m\n\u001b[1;32m      5\u001b[0m     \u001b[0mdt\u001b[0m \u001b[0;34m=\u001b[0m \u001b[0mobs_freq\u001b[0m\u001b[0;34m\u001b[0m\u001b[0;34m\u001b[0m\u001b[0m\n",
      "\u001b[0;31mNameError\u001b[0m: name 'perturbed_z' is not defined"
     ]
    }
   ],
   "source": [
    "#test = [cos_perturbation(1, time) for time in unperturbed_z.time]\n",
    "difference = perturbed_z - unperturbed_z\n",
    "for i, z in enumerate([unperturbed_z, perturbed_z, difference]):    \n",
    "    n = len(z[::2]) # Reduce sampling frequency\n",
    "    dt = obs_freq\n",
    "    fhat = np.fft.fft(z, n)\n",
    "    PSD = (fhat * np.conj(fhat))/n\n",
    "    freq = (1/(dt*n)) * np.arange(n) \n",
    "    L = np.arange(1, np.floor(n/2),dtype='int')\n",
    "    \n",
    "\n",
    "#     ## Power Spectrum\n",
    "#     plt.plot(freq[L], PSD[L])\n",
    "#     plt.yscale('log')\n",
    "#     plt.xlabel('Frequency')\n",
    "#     plt.ylabel('Spectrum of $z$')\n",
    "#     plt.show()\n",
    "\n",
    "    # Closer look\n",
    "    indices = ((freq < 10) & (freq >0))\n",
    "    plt.plot(freq[indices], PSD[indices])\n",
    "    #plt.plot(freq, PSD)\n",
    "    #plt.ylim(1.e-3, 1.e3)\n",
    "    plt.xlabel('Frequency')\n",
    "    plt.yscale('log')\n",
    "    label = ['Unperturbed', 'Perturbed','Difference']\n",
    "    plt.title(f'Specturm of $z$ - {label[i]}')\n",
    "    plt.show()"
   ]
  },
  {
   "cell_type": "code",
   "execution_count": null,
   "metadata": {},
   "outputs": [],
   "source": [
    "difference = perturbed_z - unperturbed_z"
   ]
  },
  {
   "cell_type": "code",
   "execution_count": null,
   "metadata": {},
   "outputs": [],
   "source": []
  }
 ],
 "metadata": {
  "kernelspec": {
   "display_name": "Python3 (personal)",
   "language": "python",
   "name": "python3_personal"
  },
  "language_info": {
   "codemirror_mode": {
    "name": "ipython",
    "version": 3
   },
   "file_extension": ".py",
   "mimetype": "text/x-python",
   "name": "python",
   "nbconvert_exporter": "python",
   "pygments_lexer": "ipython3",
   "version": "3.6.10"
  }
 },
 "nbformat": 4,
 "nbformat_minor": 2
}
