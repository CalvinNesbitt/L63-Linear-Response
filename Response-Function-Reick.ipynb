{
 "cells": [
  {
   "cell_type": "markdown",
   "metadata": {},
   "source": [
    "# Reick Response Function Calculation\n",
    "\n",
    "Space to develop code for Response function calculation as in Reick.\n",
    "\n",
    "We will:\n",
    "\n",
    "- Do a non-perturbed run to calculate average value of $z$\n",
    "- For different forcing frequencies calculate the response, to then determine the response function"
   ]
  },
  {
   "cell_type": "code",
   "execution_count": 5,
   "metadata": {},
   "outputs": [],
   "source": [
    "import tlorenz63 as tl63\n",
    "from tlorenz63 import make_observations\n",
    "\n",
    "# Standard Imports\n",
    "import numpy as np\n",
    "from scipy.stats import linregress\n",
    "import os\n",
    "import xarray as xr\n",
    "from tqdm.notebook import tqdm\n",
    "import matplotlib.pyplot as plt\n",
    "from mpl_toolkits.mplot3d import Axes3D"
   ]
  },
  {
   "cell_type": "code",
   "execution_count": 6,
   "metadata": {},
   "outputs": [],
   "source": [
    "# Parameter Choices\n",
    "\n",
    "# Initialisation\n",
    "X0=np.random.rand()\n",
    "Y0=np.random.rand()\n",
    "Z0=np.random.rand()\n",
    "dx0=np.random.rand()\n",
    "dy0=np.random.rand()\n",
    "dz0=np.random.rand()\n",
    "\n",
    "transient = 100\n",
    "T = 500 # Integration time\n",
    "dt = 5.e-3\n",
    "num_obs = int(T/dt)\n",
    "obs_freq = dt"
   ]
  },
  {
   "cell_type": "code",
   "execution_count": 7,
   "metadata": {},
   "outputs": [],
   "source": [
    "# Perturbation Definitions\n",
    "epsilons = [0.1, 0.5, 1]\n",
    "frequencies = np.linspace(0.1, 12, 50)\n",
    "omegas = [f * 2 * np.pi for f in frequencies]\n",
    "switch_on_time = transient\n",
    "\n",
    "def cos_perturbation(state, time, *args):\n",
    "    eps = args[0]\n",
    "    omega = args[1]\n",
    "    x = state[0]\n",
    "    perturbation = eps * np.cos(omega * time) * x\n",
    "    return np.array([0, perturbation, 0])\n",
    "\n",
    "def sin_impulse(state, t_state, time, *args):\n",
    "    if (time == switch_on_time):\n",
    "        print(f'Did Impulse at {time}')\n",
    "        eps = args[0]\n",
    "        omega = args[1]\n",
    "        dx = t_state[0]\n",
    "        perturbation = eps * np.sin(omega * time) * dx\n",
    "        return np.array([0, perturbation, 0])\n",
    "    return np.zeros(3) "
   ]
  },
  {
   "cell_type": "markdown",
   "metadata": {},
   "source": [
    "### Non Perturbation Run\n",
    "\n",
    "Solving L63 with no perturbation."
   ]
  },
  {
   "cell_type": "code",
   "execution_count": 8,
   "metadata": {},
   "outputs": [],
   "source": [
    "# Definining Integrator and Observer\n",
    "\n",
    "runner = tl63.Integrator(X_init=X0, Y_init=Y0, Z_init=Z0, dx_init=dx0, dy_init=dy0, dz_init=dz0, dt=dt)\n",
    "looker = tl63.TrajectoryObserver(runner)"
   ]
  },
  {
   "cell_type": "code",
   "execution_count": 9,
   "metadata": {},
   "outputs": [],
   "source": [
    "runner.integrate(transient)"
   ]
  },
  {
   "cell_type": "code",
   "execution_count": 10,
   "metadata": {},
   "outputs": [
    {
     "data": {
      "application/vnd.jupyter.widget-view+json": {
       "model_id": "90bed975046945e9aa59611fa89d42b5",
       "version_major": 2,
       "version_minor": 0
      },
      "text/plain": [
       "HBox(children=(FloatProgress(value=0.0, max=100000.0), HTML(value='')))"
      ]
     },
     "metadata": {},
     "output_type": "display_data"
    },
    {
     "name": "stderr",
     "output_type": "stream",
     "text": [
      "/rds/general/user/cfn18/home/L63-Linear-Response/tlorenz63.py:58: RuntimeWarning: overflow encountered in double_scalars\n",
      "  dzdt = (Y * dx) + (X * dy) - (self.b * dz)\n",
      "/rds/general/user/cfn18/home/L63-Linear-Response/tlorenz63.py:58: RuntimeWarning: invalid value encountered in double_scalars\n",
      "  dzdt = (Y * dx) + (X * dy) - (self.b * dz)\n"
     ]
    },
    {
     "name": "stdout",
     "output_type": "stream",
     "text": [
      "\n"
     ]
    }
   ],
   "source": [
    "make_observations(runner, looker, num_obs, obs_freq)\n",
    "no_pert_obs = looker.observations"
   ]
  },
  {
   "cell_type": "code",
   "execution_count": 11,
   "metadata": {},
   "outputs": [],
   "source": [
    "eq_mean = no_pert_obs.Z.mean()"
   ]
  },
  {
   "cell_type": "code",
   "execution_count": 8,
   "metadata": {},
   "outputs": [],
   "source": [
    "# # Performing Perturbation Run for varying strengths of epsilon\n",
    "\n",
    "# perturbed_observations = []\n",
    "# strengths = [1.e-6, 1.e-5, 1.e-4, 1.e-3, 1.e-2, 0.1, 0.5, 0.7, 1, 2, 5]\n",
    "# for eps in tqdm(strengths):\n",
    "#     print(f'Working on run with eps = {eps}')\n",
    "#     runner = tl63.PerturbedIntegrator(perturbation_field=cos_perturbation, p_args=[eps, omega], t_perturbation_field=sin_impulse,\n",
    "#             tp_args=[eps, omega], X_init=X0, Y_init=Y0, Z_init=Z0, dx_init=dx0, dy_init=dy0, dz_init=dz0)\n",
    "#     looker = tl63.TrajectoryObserver(runner)\n",
    "#     runner.integrate(transient)\n",
    "#     runner.perturbation_on = True\n",
    "#     perturbation_on_time = runner.time\n",
    "#     make_observations(runner, looker, num_obs, obs_freq)\n",
    "#     observations = looker.observations\n",
    "#     observations.attrs.update({'eps': eps})        \n",
    "#     epsilon = observations.attrs['eps']\n",
    "#     save = f'Reick-Experiment/Perturbed-Run-Trajectory/Eps_{epsilon:.1e}'.replace('.','_')\n",
    "#     observations.to_netcdf(save + '.nc')\n",
    "#     print(f'Saved to {save}')"
   ]
  },
  {
   "cell_type": "code",
   "execution_count": 42,
   "metadata": {},
   "outputs": [],
   "source": [
    "# eps = epsilons[1]\n",
    "# omega = omegas[10]\n",
    "\n",
    "# print(f'Working on run with eps = {eps:.2f}, Omega = {omega:.1e}')\n",
    "\n",
    "# # Save Directory, determined by epsilon\n",
    "\n",
    "\n",
    "# home = os.path.expanduser(\"~\")\n",
    "# dirName = home + f'/L63-Linear-Response/Response-Function-Reick/eps{eps:.2f}/'.replace('.','_')\n",
    "# if not os.path.exists(dirName):\n",
    "#     os.makedirs(dirName, exist_ok=True)\n",
    "#     print(\"Directory \" , dirName ,  \" Created \")\n",
    "# else:    \n",
    "#     print(\"Directory \" , dirName ,  \" already exists\")\n",
    "\n",
    "\n",
    "# # # Definining Runner and Looker\n",
    "# runner = tl63.PerturbedIntegrator(perturbation_field=cos_perturbation, p_args=[eps, omega], t_perturbation_field=sin_impulse,\n",
    "#             tp_args=[eps, omega], X_init=X0, Y_init=Y0, Z_init=Z0, dx_init=dx0, dy_init=dy0, dz_init=dz0)\n",
    "# looker = tl63.TrajectoryObserver(runner)\n",
    "\n",
    "# # Perforiming Integrations\n",
    "# print('Beginning Transient')\n",
    "# runner.integrate(transient)\n",
    "\n",
    "# print('Transient finished. Starting integration')\n",
    "# runner.perturbation_on = True\n",
    "# perturbation_on_time = runner.time\n",
    "# make_observations(runner, looker, num_obs, obs_freq)\n",
    "\n",
    "# # # Saving Output\n",
    "# observations = looker.observations\n",
    "# observations.attrs.update({'eps': eps, 'omega': omega})        \n",
    "# epsilon = observations.attrs['eps']\n",
    "# omega = observations.attrs['omega']\n",
    "\n",
    "# save = f'Omega_{omega:.1e}'.replace('.','_')\n",
    "# observations.to_netcdf(dirName + save + '.nc')\n",
    "# print(f'Saved to {dirName + save}.nc')"
   ]
  },
  {
   "cell_type": "code",
   "execution_count": 10,
   "metadata": {},
   "outputs": [],
   "source": [
    "# Time series of responses\n",
    "def fetch_ts(file):\n",
    "    omega = []\n",
    "    response_ts = []\n",
    "    for data in tqdm(perturbed_data):\n",
    "        response = data.Z - eq_mean\n",
    "        response_ts.append(response)\n",
    "    return response_ts\n",
    "\n",
    "# condition = epsilon * omega * (data.Time.max() - data.Time.min()).item()\n",
    "# conditions.append(condition)\n",
    "# power = np.abs(2 * np.mean(np.exp(data.Time * omega * 1j) * data)/epsilon)\n",
    "# powers.append(power.item())"
   ]
  },
  {
   "cell_type": "markdown",
   "metadata": {},
   "source": [
    "# Plot of Response Function Power"
   ]
  },
  {
   "cell_type": "code",
   "execution_count": null,
   "metadata": {},
   "outputs": [],
   "source": []
  },
  {
   "cell_type": "code",
   "execution_count": 11,
   "metadata": {},
   "outputs": [
    {
     "data": {
      "text/plain": [
       "['eps0_10', 'eps0_50', 'eps1_00']"
      ]
     },
     "execution_count": 11,
     "metadata": {},
     "output_type": "execute_result"
    }
   ],
   "source": [
    "os.listdir('Response-Function-Reick')"
   ]
  },
  {
   "cell_type": "code",
   "execution_count": 12,
   "metadata": {},
   "outputs": [
    {
     "name": "stdout",
     "output_type": "stream",
     "text": [
      "Working with epsilon 0.1\n"
     ]
    },
    {
     "data": {
      "application/vnd.jupyter.widget-view+json": {
       "model_id": "9fbb9a132be94c15bdf7fc2a59dab2a8",
       "version_major": 2,
       "version_minor": 0
      },
      "text/plain": [
       "HBox(children=(FloatProgress(value=0.0, max=66.0), HTML(value='')))"
      ]
     },
     "metadata": {},
     "output_type": "display_data"
    },
    {
     "name": "stdout",
     "output_type": "stream",
     "text": [
      "\n",
      "Working with epsilon 0.5\n"
     ]
    },
    {
     "data": {
      "application/vnd.jupyter.widget-view+json": {
       "model_id": "a5692b524e6a440b87db9d9e47a4d0a7",
       "version_major": 2,
       "version_minor": 0
      },
      "text/plain": [
       "HBox(children=(FloatProgress(value=0.0, max=66.0), HTML(value='')))"
      ]
     },
     "metadata": {},
     "output_type": "display_data"
    },
    {
     "name": "stdout",
     "output_type": "stream",
     "text": [
      "\n",
      "Working with epsilon 1\n"
     ]
    },
    {
     "data": {
      "application/vnd.jupyter.widget-view+json": {
       "model_id": "08e88f07b44a4e60a1f132f8471f6060",
       "version_major": 2,
       "version_minor": 0
      },
      "text/plain": [
       "HBox(children=(FloatProgress(value=0.0, max=66.0), HTML(value='')))"
      ]
     },
     "metadata": {},
     "output_type": "display_data"
    },
    {
     "name": "stdout",
     "output_type": "stream",
     "text": [
      "\n"
     ]
    }
   ],
   "source": [
    "# Collect response power to different frequency forcing\n",
    "\n",
    "epsilons = [0.1, 0.5, 1]\n",
    "response_power = []\n",
    "for i, d in enumerate(os.listdir('Response-Function-Reick')):\n",
    "    directory = f'Response-Function-Reick/{d}/'\n",
    "    epsilon = epsilons[i]\n",
    "    print(f'Working with epsilon {epsilon}')\n",
    "    frequencies = []\n",
    "    powers = []\n",
    "    for file in tqdm(os.listdir(directory)):\n",
    "        ds = xr.open_dataset(directory + file)\n",
    "        response_ts = ds.Z - eq_mean\n",
    "        freq = ds.omega/(2 * np.pi)\n",
    "        frequencies.append(freq)\n",
    "        power = np.abs(2 * np.mean(np.exp(ds.Time * ds.omega * 1j) * response_ts)/epsilon)\n",
    "        powers.append(power.item())\n",
    "    da = xr.DataArray(powers, coords={'Frequency': frequencies}, dims = ['Frequency'],\n",
    "              name='Response Power', attrs = {'Eps': epsilon})\n",
    "    response_power.append(da.sortby(da.Frequency))"
   ]
  },
  {
   "cell_type": "code",
   "execution_count": 15,
   "metadata": {},
   "outputs": [
    {
     "data": {
      "image/png": "[encoded data removed]",
      "text/plain": [
       "<Figure size 432x288 with 1 Axes>"
      ]
     },
     "metadata": {
      "needs_background": "light"
     },
     "output_type": "display_data"
    },
    {
     "data": {
      "image/png": "[encoded data removed]",
      "text/plain": [
       "<Figure size 432x288 with 1 Axes>"
      ]
     },
     "metadata": {
      "needs_background": "light"
     },
     "output_type": "display_data"
    },
    {
     "data": {
      "image/png": "[encoded data removed]",
      "text/plain": [
       "<Figure size 432x288 with 1 Axes>"
      ]
     },
     "metadata": {
      "needs_background": "light"
     },
     "output_type": "display_data"
    }
   ],
   "source": [
    "for da in response_power:\n",
    "    plt.plot(da.Frequency, da, 'k.-', alpha = 0.4)\n",
    "    plt.grid()\n",
    "    plt.xlabel('$\\\\omega$')\n",
    "    plt.ylabel('$|\\\\chi_z (\\\\omega)^T|$')\n",
    "    plt.yscale('log')\n",
    "    plt.xscale('log')\n",
    "    plt.title(f'Response Function Power, $\\\\epsilon=${da.Eps}')\n",
    "    plt.show()"
   ]
  },
  {
   "cell_type": "code",
   "execution_count": null,
   "metadata": {},
   "outputs": [],
   "source": []
  }
 ],
 "metadata": {
  "kernelspec": {
   "display_name": "Python3 (personal)",
   "language": "python",
   "name": "python3_personal"
  },
  "language_info": {
   "codemirror_mode": {
    "name": "ipython",
    "version": 3
   },
   "file_extension": ".py",
   "mimetype": "text/x-python",
   "name": "python",
   "nbconvert_exporter": "python",
   "pygments_lexer": "ipython3",
   "version": "3.6.10"
  }
 },
 "nbformat": 4,
 "nbformat_minor": 2
}
